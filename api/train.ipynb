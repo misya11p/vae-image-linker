{
 "cells": [
  {
   "cell_type": "code",
   "execution_count": null,
   "metadata": {},
   "outputs": [],
   "source": [
    "import torch\n",
    "from torch import optim\n",
    "import torch.nn.functional as F\n",
    "from torch.utils.data import DataLoader\n",
    "import torchvision\n",
    "from torchvision import transforms\n",
    "from dlprog import train_progress\n",
    "\n",
    "from model import VAE\n",
    "from train_data import get_dataloader"
   ]
  },
  {
   "cell_type": "code",
   "execution_count": null,
   "metadata": {},
   "outputs": [],
   "source": [
    "prog = train_progress()\n",
    "device = torch.device(\"cuda\" if torch.cuda.is_available() else \"cpu\")\n",
    "device"
   ]
  },
  {
   "cell_type": "code",
   "execution_count": null,
   "metadata": {},
   "outputs": [],
   "source": [
    "data_root = \"./data\"\n",
    "image_size = 96\n",
    "batch_size = 64\n",
    "split = \"unlabeled\"\n",
    "dataloader = get_dataloader(data_root, image_size, batch_size, split)\n",
    "x, _ = next(iter(dataloader))\n",
    "x.shape"
   ]
  },
  {
   "cell_type": "code",
   "execution_count": null,
   "metadata": {},
   "outputs": [],
   "source": [
    "@torch.no_grad()\n",
    "def draw(model, n_images=10, width=800):\n",
    "    model.eval()\n",
    "    x, _ = next(iter(dataloader))\n",
    "    x = x[:n_images].to(device)\n",
    "    y, _, _,  = model(x)\n",
    "    img = torch.cat([x, y], dim=0).cpu()\n",
    "    img = transforms.Resize((width // n_images), antialias=True)(img)\n",
    "    img = torchvision.utils.make_grid(img, nrow=n_images)\n",
    "    img = transforms.functional.to_pil_image(img)\n",
    "    display(img)"
   ]
  },
  {
   "cell_type": "code",
   "execution_count": null,
   "metadata": {},
   "outputs": [],
   "source": [
    "def loss_fn(x, y, mean, log_var):\n",
    "    loss_recons = F.binary_cross_entropy(y, x)\n",
    "    loss_reg = -0.5 * torch.mean(1 + log_var - mean**2 - log_var.exp())\n",
    "    return loss_recons, loss_reg\n",
    "\n",
    "def train(\n",
    "    model: VAE,\n",
    "    optimizer: optim.Optimizer,\n",
    "    dataloader: DataLoader,\n",
    "    beta: float = 0.5,\n",
    "    n_epochs: int = 30,\n",
    "    save_path: str = \"./models/vae.pth\",\n",
    "    prog_unit: int = 1,\n",
    ") -> None:\n",
    "    prog.start(\n",
    "        n_epochs=n_epochs,\n",
    "        n_iter=len(dataloader),\n",
    "        unit=prog_unit,\n",
    "        label=[\"loss recons\", \"reg\"]\n",
    "    )\n",
    "    for _ in range(n_epochs):\n",
    "        model.train()\n",
    "        for x, _ in dataloader:\n",
    "            optimizer.zero_grad()\n",
    "            x = x.to(device)\n",
    "            y, mean, log_var = model(x)\n",
    "            loss_recons, loss_reg = loss_fn(x, y, mean, log_var)\n",
    "            loss = beta * loss_recons + (1 - beta) * loss_reg\n",
    "            loss.backward()\n",
    "            optimizer.step()\n",
    "            prog.update([loss_recons.item(), loss_reg.item()])\n",
    "        if (prog.now_epoch - 1) % prog_unit == 0:\n",
    "            draw(model)\n",
    "            model.save(save_path)"
   ]
  },
  {
   "cell_type": "code",
   "execution_count": null,
   "metadata": {},
   "outputs": [],
   "source": [
    "z_dim = 512\n",
    "lr = 1e-4\n",
    "model = VAE(z_dim).to(device)\n",
    "draw(model)\n",
    "optimizer = optim.Adam(model.parameters(), lr=lr)"
   ]
  },
  {
   "cell_type": "code",
   "execution_count": null,
   "metadata": {},
   "outputs": [],
   "source": [
    "train(\n",
    "    model,\n",
    "    optimizer,\n",
    "    dataloader,\n",
    "    beta=0.9,\n",
    "    save_path=\"./models/vae3.pth\",\n",
    "    n_epochs=50\n",
    ")"
   ]
  }
 ],
 "metadata": {
  "kernelspec": {
   "display_name": "dl",
   "language": "python",
   "name": "python3"
  },
  "language_info": {
   "codemirror_mode": {
    "name": "ipython",
    "version": 3
   },
   "file_extension": ".py",
   "mimetype": "text/x-python",
   "name": "python",
   "nbconvert_exporter": "python",
   "pygments_lexer": "ipython3",
   "version": "3.11.2"
  }
 },
 "nbformat": 4,
 "nbformat_minor": 2
}
